{
 "cells": [
  {
   "cell_type": "markdown",
   "metadata": {},
   "source": [
    "# 1. Importación de librerias necesarias"
   ]
  },
  {
   "cell_type": "code",
   "execution_count": 2,
   "metadata": {},
   "outputs": [],
   "source": [
    "import pandas as pd \n",
    "import spotipy\n",
    "from spotipy.oauth2 import SpotifyClientCredentials\n",
    "import plotly.express as px\n",
    "import streamlit as st\n",
    "from dotenv import load_dotenv\n",
    "import os"
   ]
  },
  {
   "cell_type": "markdown",
   "metadata": {},
   "source": [
    "# 2. Leyendo credenciales del API de Spotify"
   ]
  },
  {
   "cell_type": "code",
   "execution_count": 3,
   "metadata": {},
   "outputs": [],
   "source": [
    "load_dotenv()  # Carga las variables desde el archivo .env\n",
    "\n",
    "client_id = os.environ.get('CLIENT_ID')\n",
    "client_secret = os.environ.get('CLIENT_SECRET')"
   ]
  },
  {
   "cell_type": "code",
   "execution_count": 4,
   "metadata": {},
   "outputs": [
    {
     "name": "stdout",
     "output_type": "stream",
     "text": [
      "Conexión exitosa\n"
     ]
    }
   ],
   "source": [
    "# Autenticacióin del usuario\n",
    "try: \n",
    "    # Capturando las credenciales del usuario\n",
    "    client_credentials_manager = SpotifyClientCredentials(client_id= client_id, client_secret=client_secret)\n",
    "    \n",
    "    #Guardando la conección de las credenciales\n",
    "    spotify = spotipy.Spotify(client_credentials_manager=client_credentials_manager)\n",
    "    \n",
    "    print(\"Conexión exitosa\")\n",
    "\n",
    "except Exception as e:\n",
    "    print(f\"Hubo un error al ejecutar la autenticación de las credenciales: {e}\")"
   ]
  },
  {
   "cell_type": "markdown",
   "metadata": {},
   "source": [
    "# 3. Creando funciones necesarias"
   ]
  },
  {
   "cell_type": "code",
   "execution_count": 19,
   "metadata": {},
   "outputs": [],
   "source": [
    "def DataframeArtistaSpotify(sp, artista):\n",
    "    \"\"\"\n",
    "    Crea un DataFrame de Pandas con información detallada sobre las canciones de un artista en Spotify.\n",
    "\n",
    "    Args:\n",
    "        sp: Objeto de conexión a la API de Spotify.\n",
    "        artista (str): Nombre del artista a buscar.\n",
    "\n",
    "    Returns:\n",
    "        pd.DataFrame: DataFrame con las siguientes columnas:\n",
    "            - Álbum: Nombre del álbum.\n",
    "            - Tipo: Tipo de lanzamiento (Álbum o Single).\n",
    "            - Año: Año de lanzamiento del álbum.\n",
    "            - Canción: Título de la canción.\n",
    "            - Artistas: Lista de artistas de la canción.\n",
    "            - Duración: Duración de la canción en formato minutos:segundos.\n",
    "            - Popularidad: Popularidad de la canción en una escala del 0 al 100.\n",
    "\n",
    "    Esta función realiza los siguientes pasos:\n",
    "        1. Busca el ID del artista en la API de Spotify utilizando el nombre proporcionado.\n",
    "        2. Obtiene los álbumes y singles del artista.\n",
    "        3. Itera sobre cada álbum y single, extrayendo información sobre cada canción.\n",
    "        4. Crea una lista con los datos de todas las canciones.\n",
    "        5. Convierte la lista en un DataFrame de Pandas.\n",
    "    \"\"\"\n",
    "    \n",
    "    # Buscamos el ID del artista en la API de Spotify\n",
    "    resultados = sp.search(q=artista, limit=1, type='artist')\n",
    "    artista_id =  resultados['artists']['items'][0]['id']\n",
    "\n",
    "    # Crear una lista vacía para almacenar los datos de las canciones\n",
    "    canciones_data = [] \n",
    "    \n",
    "    # Obtenemos los álbumes y singles del artista\n",
    "    albumes = sp.artist_albums(artista_id) # Obtener los álbumes del artista\n",
    "\n",
    "    # Iteramos sobre cada álbum y single\n",
    "    for album in albumes['items']: # Obtener las canciones para cada álbum\n",
    "        # Extraemos información del álbum\n",
    "        album_nombre = album['name']\n",
    "        album_tipo = album['album_type']\n",
    "        album_año = album['release_date'].split('-')[0]  # Obtener el año de lanzamiento\n",
    "        \n",
    "        # Obtenemos las pistas del álbum\n",
    "        tracks = sp.album_tracks(album['id'])\n",
    "\n",
    "        # Iteramos sobre cada canción\n",
    "        for track in tracks['items']: # Para cada canción, obtener los detalles y añadirlos a la lista de canciones\n",
    "            cancion_nombre = track['name']\n",
    "            cancion_artistas = ', '.join([t['name'] for t in track['artists']])\n",
    "            cancion_duracion = '{:02d}:{:02d}'.format(*divmod(track['duration_ms'] // 1000, 60))\n",
    "            cancion_popularidad = sp.track(track['id'])['popularity'] # Obtener la popularidad de la canción\n",
    "            \n",
    "            # Añadir los detalles de cadaa canción a la lista de canciones\n",
    "            canciones_data.append([album_nombre, album_tipo, album_año, cancion_nombre, cancion_artistas, cancion_duracion, cancion_popularidad])\n",
    "    \n",
    "    return pd.DataFrame(canciones_data, columns=['Álbum', 'Tipo', 'Año', 'Canción', 'Artistas', 'Duración', 'Popularidad'])\n",
    "    "
   ]
  },
  {
   "cell_type": "code",
   "execution_count": 27,
   "metadata": {},
   "outputs": [],
   "source": [
    "def crear_grafico_popularidad(df):\n",
    "    \"\"\"\n",
    "    Crea un gráfico de barras de las canciones más populares.\n",
    "\n",
    "    Args:\n",
    "        df (pd.DataFrame): DataFrame con los datos de las canciones.\n",
    "\n",
    "    Returns:\n",
    "        plotly.graph_objects.Figure: Figura del gráfico.\n",
    "    \"\"\"\n",
    "\n",
    "    canciones_populares = df.sort_values(by=['Popularidad'], ascending=True).head(20)\n",
    "    fig = px.bar(canciones_populares, \n",
    "                x='Canción', \n",
    "                y='Popularidad',\n",
    "                text='Popularidad',\n",
    "                color=\"Tipo\",\n",
    "                hover_data={'Álbum':True, 'Año':True},\n",
    "                title='Canciones más populares',\n",
    "                template='plotly_dark')\n",
    "\n",
    "    # Personalización del gráfico\n",
    "    fig.update_layout(\n",
    "        title={'text': '<i>Canciones más populares</i>',\n",
    "            'y':0.9, 'x':0.5, 'xanchor': 'center', 'yanchor': 'top',\n",
    "            'font':dict(size=25, color='white')},\n",
    "        xaxis=dict(categoryorder='total descending', title_font=dict(size=18), tickfont=dict(size=18)),\n",
    "        yaxis=dict(range=[0, canciones_populares['Popularidad'].max()+5],title_font=dict(size=18), showgrid=False, showticklabels=False)\n",
    "    )\n",
    "    \n",
    "    fig.update_traces(textposition='outside', textfont_size=18)\n",
    "\n",
    "    return fig\n"
   ]
  },
  {
   "cell_type": "markdown",
   "metadata": {},
   "source": [
    "# 4. Creando el dataframe"
   ]
  },
  {
   "cell_type": "code",
   "execution_count": 20,
   "metadata": {},
   "outputs": [
    {
     "data": {
      "text/html": [
       "<div>\n",
       "<style scoped>\n",
       "    .dataframe tbody tr th:only-of-type {\n",
       "        vertical-align: middle;\n",
       "    }\n",
       "\n",
       "    .dataframe tbody tr th {\n",
       "        vertical-align: top;\n",
       "    }\n",
       "\n",
       "    .dataframe thead th {\n",
       "        text-align: right;\n",
       "    }\n",
       "</style>\n",
       "<table border=\"1\" class=\"dataframe\">\n",
       "  <thead>\n",
       "    <tr style=\"text-align: right;\">\n",
       "      <th></th>\n",
       "      <th>Álbum</th>\n",
       "      <th>Tipo</th>\n",
       "      <th>Año</th>\n",
       "      <th>Canción</th>\n",
       "      <th>Artistas</th>\n",
       "      <th>Duración</th>\n",
       "      <th>Popularidad</th>\n",
       "    </tr>\n",
       "  </thead>\n",
       "  <tbody>\n",
       "    <tr>\n",
       "      <th>0</th>\n",
       "      <td>Pangea</td>\n",
       "      <td>album</td>\n",
       "      <td>2018</td>\n",
       "      <td>Mayu</td>\n",
       "      <td>Lucho Quequezana</td>\n",
       "      <td>03:17</td>\n",
       "      <td>18</td>\n",
       "    </tr>\n",
       "    <tr>\n",
       "      <th>1</th>\n",
       "      <td>Pangea</td>\n",
       "      <td>album</td>\n",
       "      <td>2018</td>\n",
       "      <td>Renacer</td>\n",
       "      <td>Lucho Quequezana</td>\n",
       "      <td>02:38</td>\n",
       "      <td>15</td>\n",
       "    </tr>\n",
       "    <tr>\n",
       "      <th>2</th>\n",
       "      <td>Pangea</td>\n",
       "      <td>album</td>\n",
       "      <td>2018</td>\n",
       "      <td>La Cumbia De Don Carpio</td>\n",
       "      <td>Lucho Quequezana</td>\n",
       "      <td>04:21</td>\n",
       "      <td>18</td>\n",
       "    </tr>\n",
       "    <tr>\n",
       "      <th>3</th>\n",
       "      <td>Pangea</td>\n",
       "      <td>album</td>\n",
       "      <td>2018</td>\n",
       "      <td>Pangea</td>\n",
       "      <td>Lucho Quequezana</td>\n",
       "      <td>03:46</td>\n",
       "      <td>13</td>\n",
       "    </tr>\n",
       "    <tr>\n",
       "      <th>4</th>\n",
       "      <td>Pangea</td>\n",
       "      <td>album</td>\n",
       "      <td>2018</td>\n",
       "      <td>Facu</td>\n",
       "      <td>Lucho Quequezana</td>\n",
       "      <td>02:46</td>\n",
       "      <td>17</td>\n",
       "    </tr>\n",
       "    <tr>\n",
       "      <th>5</th>\n",
       "      <td>Pangea</td>\n",
       "      <td>album</td>\n",
       "      <td>2018</td>\n",
       "      <td>Otorongo</td>\n",
       "      <td>Lucho Quequezana</td>\n",
       "      <td>05:34</td>\n",
       "      <td>14</td>\n",
       "    </tr>\n",
       "    <tr>\n",
       "      <th>6</th>\n",
       "      <td>Pangea</td>\n",
       "      <td>album</td>\n",
       "      <td>2018</td>\n",
       "      <td>El Caimán</td>\n",
       "      <td>Lucho Quequezana</td>\n",
       "      <td>06:07</td>\n",
       "      <td>13</td>\n",
       "    </tr>\n",
       "    <tr>\n",
       "      <th>7</th>\n",
       "      <td>Pangea</td>\n",
       "      <td>album</td>\n",
       "      <td>2018</td>\n",
       "      <td>Mujeres</td>\n",
       "      <td>Lucho Quequezana</td>\n",
       "      <td>03:01</td>\n",
       "      <td>18</td>\n",
       "    </tr>\n",
       "    <tr>\n",
       "      <th>8</th>\n",
       "      <td>Pangea</td>\n",
       "      <td>album</td>\n",
       "      <td>2018</td>\n",
       "      <td>Mantaro</td>\n",
       "      <td>Lucho Quequezana</td>\n",
       "      <td>04:07</td>\n",
       "      <td>20</td>\n",
       "    </tr>\n",
       "    <tr>\n",
       "      <th>9</th>\n",
       "      <td>Combi</td>\n",
       "      <td>album</td>\n",
       "      <td>2014</td>\n",
       "      <td>En Primavera</td>\n",
       "      <td>Lucho Quequezana</td>\n",
       "      <td>03:35</td>\n",
       "      <td>15</td>\n",
       "    </tr>\n",
       "    <tr>\n",
       "      <th>10</th>\n",
       "      <td>Combi</td>\n",
       "      <td>album</td>\n",
       "      <td>2014</td>\n",
       "      <td>Combi</td>\n",
       "      <td>Lucho Quequezana</td>\n",
       "      <td>04:14</td>\n",
       "      <td>17</td>\n",
       "    </tr>\n",
       "    <tr>\n",
       "      <th>11</th>\n",
       "      <td>Combi</td>\n",
       "      <td>album</td>\n",
       "      <td>2014</td>\n",
       "      <td>Caminos de Nieve</td>\n",
       "      <td>Lucho Quequezana</td>\n",
       "      <td>04:13</td>\n",
       "      <td>16</td>\n",
       "    </tr>\n",
       "    <tr>\n",
       "      <th>12</th>\n",
       "      <td>Combi</td>\n",
       "      <td>album</td>\n",
       "      <td>2014</td>\n",
       "      <td>Tiempo - Version Completa</td>\n",
       "      <td>Lucho Quequezana</td>\n",
       "      <td>03:27</td>\n",
       "      <td>23</td>\n",
       "    </tr>\n",
       "    <tr>\n",
       "      <th>13</th>\n",
       "      <td>Combi</td>\n",
       "      <td>album</td>\n",
       "      <td>2014</td>\n",
       "      <td>Toyada</td>\n",
       "      <td>Lucho Quequezana</td>\n",
       "      <td>05:04</td>\n",
       "      <td>15</td>\n",
       "    </tr>\n",
       "    <tr>\n",
       "      <th>14</th>\n",
       "      <td>Combi</td>\n",
       "      <td>album</td>\n",
       "      <td>2014</td>\n",
       "      <td>Raymi</td>\n",
       "      <td>Lucho Quequezana</td>\n",
       "      <td>04:08</td>\n",
       "      <td>18</td>\n",
       "    </tr>\n",
       "    <tr>\n",
       "      <th>15</th>\n",
       "      <td>Combi</td>\n",
       "      <td>album</td>\n",
       "      <td>2014</td>\n",
       "      <td>Kuteq</td>\n",
       "      <td>Lucho Quequezana</td>\n",
       "      <td>02:14</td>\n",
       "      <td>17</td>\n",
       "    </tr>\n",
       "    <tr>\n",
       "      <th>16</th>\n",
       "      <td>Combi</td>\n",
       "      <td>album</td>\n",
       "      <td>2014</td>\n",
       "      <td>Todo Lo Demas</td>\n",
       "      <td>Lucho Quequezana</td>\n",
       "      <td>04:02</td>\n",
       "      <td>12</td>\n",
       "    </tr>\n",
       "    <tr>\n",
       "      <th>17</th>\n",
       "      <td>Combi</td>\n",
       "      <td>album</td>\n",
       "      <td>2014</td>\n",
       "      <td>Distancias</td>\n",
       "      <td>Lucho Quequezana</td>\n",
       "      <td>03:06</td>\n",
       "      <td>27</td>\n",
       "    </tr>\n",
       "    <tr>\n",
       "      <th>18</th>\n",
       "      <td>Combi</td>\n",
       "      <td>album</td>\n",
       "      <td>2014</td>\n",
       "      <td>La Llamada</td>\n",
       "      <td>Lucho Quequezana</td>\n",
       "      <td>04:27</td>\n",
       "      <td>12</td>\n",
       "    </tr>\n",
       "    <tr>\n",
       "      <th>19</th>\n",
       "      <td>Combi</td>\n",
       "      <td>album</td>\n",
       "      <td>2014</td>\n",
       "      <td>Ruta Pirata</td>\n",
       "      <td>Lucho Quequezana</td>\n",
       "      <td>04:20</td>\n",
       "      <td>15</td>\n",
       "    </tr>\n",
       "    <tr>\n",
       "      <th>20</th>\n",
       "      <td>Kuntur (Edición Especial)</td>\n",
       "      <td>album</td>\n",
       "      <td>2011</td>\n",
       "      <td>Porque Ayer</td>\n",
       "      <td>Lucho Quequezana</td>\n",
       "      <td>03:51</td>\n",
       "      <td>23</td>\n",
       "    </tr>\n",
       "    <tr>\n",
       "      <th>21</th>\n",
       "      <td>Kuntur (Edición Especial)</td>\n",
       "      <td>album</td>\n",
       "      <td>2011</td>\n",
       "      <td>Gorrioncito</td>\n",
       "      <td>Lucho Quequezana</td>\n",
       "      <td>02:25</td>\n",
       "      <td>25</td>\n",
       "    </tr>\n",
       "    <tr>\n",
       "      <th>22</th>\n",
       "      <td>Kuntur (Edición Especial)</td>\n",
       "      <td>album</td>\n",
       "      <td>2011</td>\n",
       "      <td>Landó</td>\n",
       "      <td>Lucho Quequezana</td>\n",
       "      <td>04:12</td>\n",
       "      <td>18</td>\n",
       "    </tr>\n",
       "    <tr>\n",
       "      <th>23</th>\n",
       "      <td>Kuntur (Edición Especial)</td>\n",
       "      <td>album</td>\n",
       "      <td>2011</td>\n",
       "      <td>Chaska</td>\n",
       "      <td>Lucho Quequezana</td>\n",
       "      <td>01:07</td>\n",
       "      <td>21</td>\n",
       "    </tr>\n",
       "    <tr>\n",
       "      <th>24</th>\n",
       "      <td>Kuntur (Edición Especial)</td>\n",
       "      <td>album</td>\n",
       "      <td>2011</td>\n",
       "      <td>Camino al Carnaval</td>\n",
       "      <td>Lucho Quequezana</td>\n",
       "      <td>04:59</td>\n",
       "      <td>31</td>\n",
       "    </tr>\n",
       "    <tr>\n",
       "      <th>25</th>\n",
       "      <td>Kuntur (Edición Especial)</td>\n",
       "      <td>album</td>\n",
       "      <td>2011</td>\n",
       "      <td>Kuntur</td>\n",
       "      <td>Lucho Quequezana</td>\n",
       "      <td>03:30</td>\n",
       "      <td>26</td>\n",
       "    </tr>\n",
       "    <tr>\n",
       "      <th>26</th>\n",
       "      <td>Kuntur (Edición Especial)</td>\n",
       "      <td>album</td>\n",
       "      <td>2011</td>\n",
       "      <td>Singui</td>\n",
       "      <td>Lucho Quequezana</td>\n",
       "      <td>04:27</td>\n",
       "      <td>17</td>\n",
       "    </tr>\n",
       "    <tr>\n",
       "      <th>27</th>\n",
       "      <td>Kuntur (Edición Especial)</td>\n",
       "      <td>album</td>\n",
       "      <td>2011</td>\n",
       "      <td>La Máxima</td>\n",
       "      <td>Lucho Quequezana</td>\n",
       "      <td>04:57</td>\n",
       "      <td>17</td>\n",
       "    </tr>\n",
       "    <tr>\n",
       "      <th>28</th>\n",
       "      <td>Kuntur (Edición Especial)</td>\n",
       "      <td>album</td>\n",
       "      <td>2011</td>\n",
       "      <td>Quequezaya</td>\n",
       "      <td>Lucho Quequezana</td>\n",
       "      <td>04:39</td>\n",
       "      <td>24</td>\n",
       "    </tr>\n",
       "    <tr>\n",
       "      <th>29</th>\n",
       "      <td>Kuntur (Edición Especial)</td>\n",
       "      <td>album</td>\n",
       "      <td>2011</td>\n",
       "      <td>Tiempo</td>\n",
       "      <td>Lucho Quequezana</td>\n",
       "      <td>00:52</td>\n",
       "      <td>26</td>\n",
       "    </tr>\n",
       "    <tr>\n",
       "      <th>30</th>\n",
       "      <td>Max Castro y la Gran Banda</td>\n",
       "      <td>album</td>\n",
       "      <td>2013</td>\n",
       "      <td>Intro y Tu Amor No Vale Nada</td>\n",
       "      <td>Max Castro</td>\n",
       "      <td>07:06</td>\n",
       "      <td>19</td>\n",
       "    </tr>\n",
       "    <tr>\n",
       "      <th>31</th>\n",
       "      <td>Max Castro y la Gran Banda</td>\n",
       "      <td>album</td>\n",
       "      <td>2013</td>\n",
       "      <td>Cantando y Bailando</td>\n",
       "      <td>Max Castro</td>\n",
       "      <td>05:20</td>\n",
       "      <td>27</td>\n",
       "    </tr>\n",
       "    <tr>\n",
       "      <th>32</th>\n",
       "      <td>Max Castro y la Gran Banda</td>\n",
       "      <td>album</td>\n",
       "      <td>2013</td>\n",
       "      <td>Si Te Marchas Vete Ya</td>\n",
       "      <td>Max Castro</td>\n",
       "      <td>05:52</td>\n",
       "      <td>19</td>\n",
       "    </tr>\n",
       "    <tr>\n",
       "      <th>33</th>\n",
       "      <td>Max Castro y la Gran Banda</td>\n",
       "      <td>album</td>\n",
       "      <td>2013</td>\n",
       "      <td>Duele Amar (feat. Grupo Antologia)</td>\n",
       "      <td>Max Castro, Grupo Antologia</td>\n",
       "      <td>04:03</td>\n",
       "      <td>37</td>\n",
       "    </tr>\n",
       "    <tr>\n",
       "      <th>34</th>\n",
       "      <td>Max Castro y la Gran Banda</td>\n",
       "      <td>album</td>\n",
       "      <td>2013</td>\n",
       "      <td>Tu Me Pides Que Te Olvide</td>\n",
       "      <td>Max Castro</td>\n",
       "      <td>05:30</td>\n",
       "      <td>48</td>\n",
       "    </tr>\n",
       "    <tr>\n",
       "      <th>35</th>\n",
       "      <td>Max Castro y la Gran Banda</td>\n",
       "      <td>album</td>\n",
       "      <td>2013</td>\n",
       "      <td>Amor Agonizante</td>\n",
       "      <td>Max Castro</td>\n",
       "      <td>03:48</td>\n",
       "      <td>16</td>\n",
       "    </tr>\n",
       "    <tr>\n",
       "      <th>36</th>\n",
       "      <td>Max Castro y la Gran Banda</td>\n",
       "      <td>album</td>\n",
       "      <td>2013</td>\n",
       "      <td>El Soltero</td>\n",
       "      <td>Max Castro</td>\n",
       "      <td>05:59</td>\n",
       "      <td>17</td>\n",
       "    </tr>\n",
       "    <tr>\n",
       "      <th>37</th>\n",
       "      <td>Max Castro y la Gran Banda</td>\n",
       "      <td>album</td>\n",
       "      <td>2013</td>\n",
       "      <td>Falso Juramento (feat. Mac Salvador)</td>\n",
       "      <td>Max Castro, Mac Salvador</td>\n",
       "      <td>05:13</td>\n",
       "      <td>46</td>\n",
       "    </tr>\n",
       "    <tr>\n",
       "      <th>38</th>\n",
       "      <td>Max Castro y la Gran Banda</td>\n",
       "      <td>album</td>\n",
       "      <td>2013</td>\n",
       "      <td>No Llores por Mi</td>\n",
       "      <td>Max Castro</td>\n",
       "      <td>05:49</td>\n",
       "      <td>11</td>\n",
       "    </tr>\n",
       "    <tr>\n",
       "      <th>39</th>\n",
       "      <td>Max Castro y la Gran Banda</td>\n",
       "      <td>album</td>\n",
       "      <td>2013</td>\n",
       "      <td>Buscando un Sueño (feat. William Luna &amp; Pepe A...</td>\n",
       "      <td>Max Castro, William Luna, Pepe Alva</td>\n",
       "      <td>05:13</td>\n",
       "      <td>14</td>\n",
       "    </tr>\n",
       "    <tr>\n",
       "      <th>40</th>\n",
       "      <td>Max Castro y la Gran Banda</td>\n",
       "      <td>album</td>\n",
       "      <td>2013</td>\n",
       "      <td>Linda Morena (feat. William Luna &amp; Pepe Alva)</td>\n",
       "      <td>Max Castro, William Luna, Pepe Alva</td>\n",
       "      <td>04:19</td>\n",
       "      <td>31</td>\n",
       "    </tr>\n",
       "    <tr>\n",
       "      <th>41</th>\n",
       "      <td>Max Castro y la Gran Banda</td>\n",
       "      <td>album</td>\n",
       "      <td>2013</td>\n",
       "      <td>La Ultima Carta</td>\n",
       "      <td>Max Castro</td>\n",
       "      <td>04:20</td>\n",
       "      <td>10</td>\n",
       "    </tr>\n",
       "    <tr>\n",
       "      <th>42</th>\n",
       "      <td>Max Castro y la Gran Banda</td>\n",
       "      <td>album</td>\n",
       "      <td>2013</td>\n",
       "      <td>Ayacuchana Linda Coqueta (feat. Lucho Quequezana)</td>\n",
       "      <td>Max Castro, Lucho Quequezana</td>\n",
       "      <td>05:29</td>\n",
       "      <td>14</td>\n",
       "    </tr>\n",
       "    <tr>\n",
       "      <th>43</th>\n",
       "      <td>Max Castro y la Gran Banda</td>\n",
       "      <td>album</td>\n",
       "      <td>2013</td>\n",
       "      <td>La Musa</td>\n",
       "      <td>Max Castro</td>\n",
       "      <td>04:28</td>\n",
       "      <td>16</td>\n",
       "    </tr>\n",
       "    <tr>\n",
       "      <th>44</th>\n",
       "      <td>Max Castro y la Gran Banda</td>\n",
       "      <td>album</td>\n",
       "      <td>2013</td>\n",
       "      <td>Antawara (feat. William Luna, Pepe Alva &amp; Luch...</td>\n",
       "      <td>Max Castro, William Luna, Pepe Alva, Lucho Que...</td>\n",
       "      <td>04:56</td>\n",
       "      <td>32</td>\n",
       "    </tr>\n",
       "    <tr>\n",
       "      <th>45</th>\n",
       "      <td>Cuando Pienses en Volver (Versión Cumbia- Salsa)</td>\n",
       "      <td>single</td>\n",
       "      <td>2020</td>\n",
       "      <td>Cuando Pienses en Volver (Versión Cumbia- Salsa)</td>\n",
       "      <td>Tony Succar, Pedro Suárez-Vértiz, Daniela Darc...</td>\n",
       "      <td>04:12</td>\n",
       "      <td>36</td>\n",
       "    </tr>\n",
       "    <tr>\n",
       "      <th>46</th>\n",
       "      <td>Spirits</td>\n",
       "      <td>compilation</td>\n",
       "      <td>2020</td>\n",
       "      <td>Spirits</td>\n",
       "      <td>We The Lion, Ezio Oliva, Nico Saba, Donnie Yai...</td>\n",
       "      <td>03:00</td>\n",
       "      <td>33</td>\n",
       "    </tr>\n",
       "    <tr>\n",
       "      <th>47</th>\n",
       "      <td>Herencia (Versión Deluxe)</td>\n",
       "      <td>album</td>\n",
       "      <td>2019</td>\n",
       "      <td>Una Misma Sangre</td>\n",
       "      <td>Nicole Pillman</td>\n",
       "      <td>04:25</td>\n",
       "      <td>1</td>\n",
       "    </tr>\n",
       "    <tr>\n",
       "      <th>48</th>\n",
       "      <td>Herencia (Versión Deluxe)</td>\n",
       "      <td>album</td>\n",
       "      <td>2019</td>\n",
       "      <td>Sigo Adelante (feat. Mauricio Mesones)</td>\n",
       "      <td>Nicole Pillman, Mauricio Mesones</td>\n",
       "      <td>04:25</td>\n",
       "      <td>15</td>\n",
       "    </tr>\n",
       "    <tr>\n",
       "      <th>49</th>\n",
       "      <td>Herencia (Versión Deluxe)</td>\n",
       "      <td>album</td>\n",
       "      <td>2019</td>\n",
       "      <td>Soy Mujer</td>\n",
       "      <td>Nicole Pillman</td>\n",
       "      <td>04:58</td>\n",
       "      <td>1</td>\n",
       "    </tr>\n",
       "    <tr>\n",
       "      <th>50</th>\n",
       "      <td>Herencia (Versión Deluxe)</td>\n",
       "      <td>album</td>\n",
       "      <td>2019</td>\n",
       "      <td>El Adiós</td>\n",
       "      <td>Nicole Pillman</td>\n",
       "      <td>03:46</td>\n",
       "      <td>1</td>\n",
       "    </tr>\n",
       "    <tr>\n",
       "      <th>51</th>\n",
       "      <td>Herencia (Versión Deluxe)</td>\n",
       "      <td>album</td>\n",
       "      <td>2019</td>\n",
       "      <td>Cantos de Amor y Dolor (feat. Lucho Quequezana)</td>\n",
       "      <td>Nicole Pillman, Lucho Quequezana</td>\n",
       "      <td>04:20</td>\n",
       "      <td>2</td>\n",
       "    </tr>\n",
       "    <tr>\n",
       "      <th>52</th>\n",
       "      <td>Herencia (Versión Deluxe)</td>\n",
       "      <td>album</td>\n",
       "      <td>2019</td>\n",
       "      <td>Paloma Blanca</td>\n",
       "      <td>Nicole Pillman</td>\n",
       "      <td>04:16</td>\n",
       "      <td>1</td>\n",
       "    </tr>\n",
       "    <tr>\n",
       "      <th>53</th>\n",
       "      <td>Herencia (Versión Deluxe)</td>\n",
       "      <td>album</td>\n",
       "      <td>2019</td>\n",
       "      <td>Qué Hiciste</td>\n",
       "      <td>Nicole Pillman</td>\n",
       "      <td>04:15</td>\n",
       "      <td>2</td>\n",
       "    </tr>\n",
       "    <tr>\n",
       "      <th>54</th>\n",
       "      <td>Herencia (Versión Deluxe)</td>\n",
       "      <td>album</td>\n",
       "      <td>2019</td>\n",
       "      <td>Para Olvidar</td>\n",
       "      <td>Nicole Pillman</td>\n",
       "      <td>04:55</td>\n",
       "      <td>0</td>\n",
       "    </tr>\n",
       "    <tr>\n",
       "      <th>55</th>\n",
       "      <td>Herencia (Versión Deluxe)</td>\n",
       "      <td>album</td>\n",
       "      <td>2019</td>\n",
       "      <td>La Vida Es Corta</td>\n",
       "      <td>Nicole Pillman</td>\n",
       "      <td>03:36</td>\n",
       "      <td>8</td>\n",
       "    </tr>\n",
       "    <tr>\n",
       "      <th>56</th>\n",
       "      <td>Herencia (Versión Deluxe)</td>\n",
       "      <td>album</td>\n",
       "      <td>2019</td>\n",
       "      <td>Una Misma Sangre - Versión Viña del Mar</td>\n",
       "      <td>Nicole Pillman</td>\n",
       "      <td>03:01</td>\n",
       "      <td>5</td>\n",
       "    </tr>\n",
       "  </tbody>\n",
       "</table>\n",
       "</div>"
      ],
      "text/plain": [
       "                                               Álbum         Tipo   Año  \\\n",
       "0                                             Pangea        album  2018   \n",
       "1                                             Pangea        album  2018   \n",
       "2                                             Pangea        album  2018   \n",
       "3                                             Pangea        album  2018   \n",
       "4                                             Pangea        album  2018   \n",
       "5                                             Pangea        album  2018   \n",
       "6                                             Pangea        album  2018   \n",
       "7                                             Pangea        album  2018   \n",
       "8                                             Pangea        album  2018   \n",
       "9                                              Combi        album  2014   \n",
       "10                                             Combi        album  2014   \n",
       "11                                             Combi        album  2014   \n",
       "12                                             Combi        album  2014   \n",
       "13                                             Combi        album  2014   \n",
       "14                                             Combi        album  2014   \n",
       "15                                             Combi        album  2014   \n",
       "16                                             Combi        album  2014   \n",
       "17                                             Combi        album  2014   \n",
       "18                                             Combi        album  2014   \n",
       "19                                             Combi        album  2014   \n",
       "20                         Kuntur (Edición Especial)        album  2011   \n",
       "21                         Kuntur (Edición Especial)        album  2011   \n",
       "22                         Kuntur (Edición Especial)        album  2011   \n",
       "23                         Kuntur (Edición Especial)        album  2011   \n",
       "24                         Kuntur (Edición Especial)        album  2011   \n",
       "25                         Kuntur (Edición Especial)        album  2011   \n",
       "26                         Kuntur (Edición Especial)        album  2011   \n",
       "27                         Kuntur (Edición Especial)        album  2011   \n",
       "28                         Kuntur (Edición Especial)        album  2011   \n",
       "29                         Kuntur (Edición Especial)        album  2011   \n",
       "30                        Max Castro y la Gran Banda        album  2013   \n",
       "31                        Max Castro y la Gran Banda        album  2013   \n",
       "32                        Max Castro y la Gran Banda        album  2013   \n",
       "33                        Max Castro y la Gran Banda        album  2013   \n",
       "34                        Max Castro y la Gran Banda        album  2013   \n",
       "35                        Max Castro y la Gran Banda        album  2013   \n",
       "36                        Max Castro y la Gran Banda        album  2013   \n",
       "37                        Max Castro y la Gran Banda        album  2013   \n",
       "38                        Max Castro y la Gran Banda        album  2013   \n",
       "39                        Max Castro y la Gran Banda        album  2013   \n",
       "40                        Max Castro y la Gran Banda        album  2013   \n",
       "41                        Max Castro y la Gran Banda        album  2013   \n",
       "42                        Max Castro y la Gran Banda        album  2013   \n",
       "43                        Max Castro y la Gran Banda        album  2013   \n",
       "44                        Max Castro y la Gran Banda        album  2013   \n",
       "45  Cuando Pienses en Volver (Versión Cumbia- Salsa)       single  2020   \n",
       "46                                           Spirits  compilation  2020   \n",
       "47                         Herencia (Versión Deluxe)        album  2019   \n",
       "48                         Herencia (Versión Deluxe)        album  2019   \n",
       "49                         Herencia (Versión Deluxe)        album  2019   \n",
       "50                         Herencia (Versión Deluxe)        album  2019   \n",
       "51                         Herencia (Versión Deluxe)        album  2019   \n",
       "52                         Herencia (Versión Deluxe)        album  2019   \n",
       "53                         Herencia (Versión Deluxe)        album  2019   \n",
       "54                         Herencia (Versión Deluxe)        album  2019   \n",
       "55                         Herencia (Versión Deluxe)        album  2019   \n",
       "56                         Herencia (Versión Deluxe)        album  2019   \n",
       "\n",
       "                                              Canción  \\\n",
       "0                                                Mayu   \n",
       "1                                             Renacer   \n",
       "2                             La Cumbia De Don Carpio   \n",
       "3                                              Pangea   \n",
       "4                                                Facu   \n",
       "5                                            Otorongo   \n",
       "6                                           El Caimán   \n",
       "7                                             Mujeres   \n",
       "8                                             Mantaro   \n",
       "9                                        En Primavera   \n",
       "10                                              Combi   \n",
       "11                                   Caminos de Nieve   \n",
       "12                          Tiempo - Version Completa   \n",
       "13                                             Toyada   \n",
       "14                                              Raymi   \n",
       "15                                              Kuteq   \n",
       "16                                      Todo Lo Demas   \n",
       "17                                         Distancias   \n",
       "18                                         La Llamada   \n",
       "19                                        Ruta Pirata   \n",
       "20                                        Porque Ayer   \n",
       "21                                        Gorrioncito   \n",
       "22                                              Landó   \n",
       "23                                             Chaska   \n",
       "24                                 Camino al Carnaval   \n",
       "25                                             Kuntur   \n",
       "26                                             Singui   \n",
       "27                                          La Máxima   \n",
       "28                                         Quequezaya   \n",
       "29                                             Tiempo   \n",
       "30                       Intro y Tu Amor No Vale Nada   \n",
       "31                                Cantando y Bailando   \n",
       "32                              Si Te Marchas Vete Ya   \n",
       "33                 Duele Amar (feat. Grupo Antologia)   \n",
       "34                          Tu Me Pides Que Te Olvide   \n",
       "35                                    Amor Agonizante   \n",
       "36                                         El Soltero   \n",
       "37               Falso Juramento (feat. Mac Salvador)   \n",
       "38                                   No Llores por Mi   \n",
       "39  Buscando un Sueño (feat. William Luna & Pepe A...   \n",
       "40      Linda Morena (feat. William Luna & Pepe Alva)   \n",
       "41                                    La Ultima Carta   \n",
       "42  Ayacuchana Linda Coqueta (feat. Lucho Quequezana)   \n",
       "43                                            La Musa   \n",
       "44  Antawara (feat. William Luna, Pepe Alva & Luch...   \n",
       "45   Cuando Pienses en Volver (Versión Cumbia- Salsa)   \n",
       "46                                            Spirits   \n",
       "47                                   Una Misma Sangre   \n",
       "48             Sigo Adelante (feat. Mauricio Mesones)   \n",
       "49                                          Soy Mujer   \n",
       "50                                           El Adiós   \n",
       "51    Cantos de Amor y Dolor (feat. Lucho Quequezana)   \n",
       "52                                      Paloma Blanca   \n",
       "53                                        Qué Hiciste   \n",
       "54                                       Para Olvidar   \n",
       "55                                   La Vida Es Corta   \n",
       "56            Una Misma Sangre - Versión Viña del Mar   \n",
       "\n",
       "                                             Artistas Duración  Popularidad  \n",
       "0                                    Lucho Quequezana    03:17           18  \n",
       "1                                    Lucho Quequezana    02:38           15  \n",
       "2                                    Lucho Quequezana    04:21           18  \n",
       "3                                    Lucho Quequezana    03:46           13  \n",
       "4                                    Lucho Quequezana    02:46           17  \n",
       "5                                    Lucho Quequezana    05:34           14  \n",
       "6                                    Lucho Quequezana    06:07           13  \n",
       "7                                    Lucho Quequezana    03:01           18  \n",
       "8                                    Lucho Quequezana    04:07           20  \n",
       "9                                    Lucho Quequezana    03:35           15  \n",
       "10                                   Lucho Quequezana    04:14           17  \n",
       "11                                   Lucho Quequezana    04:13           16  \n",
       "12                                   Lucho Quequezana    03:27           23  \n",
       "13                                   Lucho Quequezana    05:04           15  \n",
       "14                                   Lucho Quequezana    04:08           18  \n",
       "15                                   Lucho Quequezana    02:14           17  \n",
       "16                                   Lucho Quequezana    04:02           12  \n",
       "17                                   Lucho Quequezana    03:06           27  \n",
       "18                                   Lucho Quequezana    04:27           12  \n",
       "19                                   Lucho Quequezana    04:20           15  \n",
       "20                                   Lucho Quequezana    03:51           23  \n",
       "21                                   Lucho Quequezana    02:25           25  \n",
       "22                                   Lucho Quequezana    04:12           18  \n",
       "23                                   Lucho Quequezana    01:07           21  \n",
       "24                                   Lucho Quequezana    04:59           31  \n",
       "25                                   Lucho Quequezana    03:30           26  \n",
       "26                                   Lucho Quequezana    04:27           17  \n",
       "27                                   Lucho Quequezana    04:57           17  \n",
       "28                                   Lucho Quequezana    04:39           24  \n",
       "29                                   Lucho Quequezana    00:52           26  \n",
       "30                                         Max Castro    07:06           19  \n",
       "31                                         Max Castro    05:20           27  \n",
       "32                                         Max Castro    05:52           19  \n",
       "33                        Max Castro, Grupo Antologia    04:03           37  \n",
       "34                                         Max Castro    05:30           48  \n",
       "35                                         Max Castro    03:48           16  \n",
       "36                                         Max Castro    05:59           17  \n",
       "37                           Max Castro, Mac Salvador    05:13           46  \n",
       "38                                         Max Castro    05:49           11  \n",
       "39                Max Castro, William Luna, Pepe Alva    05:13           14  \n",
       "40                Max Castro, William Luna, Pepe Alva    04:19           31  \n",
       "41                                         Max Castro    04:20           10  \n",
       "42                       Max Castro, Lucho Quequezana    05:29           14  \n",
       "43                                         Max Castro    04:28           16  \n",
       "44  Max Castro, William Luna, Pepe Alva, Lucho Que...    04:56           32  \n",
       "45  Tony Succar, Pedro Suárez-Vértiz, Daniela Darc...    04:12           36  \n",
       "46  We The Lion, Ezio Oliva, Nico Saba, Donnie Yai...    03:00           33  \n",
       "47                                     Nicole Pillman    04:25            1  \n",
       "48                   Nicole Pillman, Mauricio Mesones    04:25           15  \n",
       "49                                     Nicole Pillman    04:58            1  \n",
       "50                                     Nicole Pillman    03:46            1  \n",
       "51                   Nicole Pillman, Lucho Quequezana    04:20            2  \n",
       "52                                     Nicole Pillman    04:16            1  \n",
       "53                                     Nicole Pillman    04:15            2  \n",
       "54                                     Nicole Pillman    04:55            0  \n",
       "55                                     Nicole Pillman    03:36            8  \n",
       "56                                     Nicole Pillman    03:01            5  "
      ]
     },
     "execution_count": 20,
     "metadata": {},
     "output_type": "execute_result"
    }
   ],
   "source": [
    "data = DataframeArtistaSpotify(spotify, \"Lucho Quequezana\")\n",
    "\n",
    "data"
   ]
  },
  {
   "cell_type": "code",
   "execution_count": 21,
   "metadata": {},
   "outputs": [
    {
     "data": {
      "text/plain": [
       "array([18, 15, 13, 17, 14, 20, 16, 23, 12, 27, 25, 21, 31, 26, 24, 19, 37,\n",
       "       48, 46, 11, 10, 32, 36, 33,  1,  2,  0,  8,  5], dtype=int64)"
      ]
     },
     "execution_count": 21,
     "metadata": {},
     "output_type": "execute_result"
    }
   ],
   "source": [
    "data[\"Popularidad\"].unique()"
   ]
  },
  {
   "cell_type": "markdown",
   "metadata": {},
   "source": [
    "# 5. Creando graficos necesarios"
   ]
  },
  {
   "cell_type": "code",
   "execution_count": 28,
   "metadata": {},
   "outputs": [
    {
     "data": {
      "application/vnd.plotly.v1+json": {
       "config": {
        "plotlyServerURL": "https://plot.ly"
       },
       "data": [
        {
         "alignmentgroup": "True",
         "customdata": [
          [
           "Herencia (Versión Deluxe)",
           "2019"
          ],
          [
           "Herencia (Versión Deluxe)",
           "2019"
          ],
          [
           "Herencia (Versión Deluxe)",
           "2019"
          ],
          [
           "Herencia (Versión Deluxe)",
           "2019"
          ],
          [
           "Herencia (Versión Deluxe)",
           "2019"
          ],
          [
           "Herencia (Versión Deluxe)",
           "2019"
          ],
          [
           "Herencia (Versión Deluxe)",
           "2019"
          ],
          [
           "Herencia (Versión Deluxe)",
           "2019"
          ],
          [
           "Herencia (Versión Deluxe)",
           "2019"
          ],
          [
           "Max Castro y la Gran Banda",
           "2013"
          ],
          [
           "Max Castro y la Gran Banda",
           "2013"
          ],
          [
           "Combi",
           "2014"
          ],
          [
           "Combi",
           "2014"
          ],
          [
           "Pangea",
           "2018"
          ],
          [
           "Pangea",
           "2018"
          ],
          [
           "Max Castro y la Gran Banda",
           "2013"
          ],
          [
           "Pangea",
           "2018"
          ],
          [
           "Max Castro y la Gran Banda",
           "2013"
          ],
          [
           "Combi",
           "2014"
          ],
          [
           "Pangea",
           "2018"
          ]
         ],
         "hovertemplate": "Tipo=album<br>Canción=%{x}<br>Popularidad=%{text}<br>Álbum=%{customdata[0]}<br>Año=%{customdata[1]}<extra></extra>",
         "legendgroup": "album",
         "marker": {
          "color": "#636efa",
          "pattern": {
           "shape": ""
          }
         },
         "name": "album",
         "offsetgroup": "album",
         "orientation": "v",
         "showlegend": true,
         "text": [
          0,
          1,
          1,
          1,
          1,
          2,
          2,
          5,
          8,
          10,
          11,
          12,
          12,
          13,
          13,
          14,
          14,
          14,
          15,
          15
         ],
         "textfont": {
          "size": 18
         },
         "textposition": "outside",
         "type": "bar",
         "x": [
          "Para Olvidar",
          "Soy Mujer",
          "Paloma Blanca",
          "Una Misma Sangre",
          "El Adiós",
          "Qué Hiciste",
          "Cantos de Amor y Dolor (feat. Lucho Quequezana)",
          "Una Misma Sangre - Versión Viña del Mar",
          "La Vida Es Corta",
          "La Ultima Carta",
          "No Llores por Mi",
          "La Llamada",
          "Todo Lo Demas",
          "Pangea",
          "El Caimán",
          "Buscando un Sueño (feat. William Luna & Pepe Alva)",
          "Otorongo",
          "Ayacuchana Linda Coqueta (feat. Lucho Quequezana)",
          "En Primavera",
          "Renacer"
         ],
         "xaxis": "x",
         "y": [
          0,
          1,
          1,
          1,
          1,
          2,
          2,
          5,
          8,
          10,
          11,
          12,
          12,
          13,
          13,
          14,
          14,
          14,
          15,
          15
         ],
         "yaxis": "y"
        }
       ],
       "layout": {
        "barmode": "relative",
        "legend": {
         "title": {
          "text": "Tipo"
         },
         "tracegroupgap": 0
        },
        "template": {
         "data": {
          "bar": [
           {
            "error_x": {
             "color": "#f2f5fa"
            },
            "error_y": {
             "color": "#f2f5fa"
            },
            "marker": {
             "line": {
              "color": "rgb(17,17,17)",
              "width": 0.5
             },
             "pattern": {
              "fillmode": "overlay",
              "size": 10,
              "solidity": 0.2
             }
            },
            "type": "bar"
           }
          ],
          "barpolar": [
           {
            "marker": {
             "line": {
              "color": "rgb(17,17,17)",
              "width": 0.5
             },
             "pattern": {
              "fillmode": "overlay",
              "size": 10,
              "solidity": 0.2
             }
            },
            "type": "barpolar"
           }
          ],
          "carpet": [
           {
            "aaxis": {
             "endlinecolor": "#A2B1C6",
             "gridcolor": "#506784",
             "linecolor": "#506784",
             "minorgridcolor": "#506784",
             "startlinecolor": "#A2B1C6"
            },
            "baxis": {
             "endlinecolor": "#A2B1C6",
             "gridcolor": "#506784",
             "linecolor": "#506784",
             "minorgridcolor": "#506784",
             "startlinecolor": "#A2B1C6"
            },
            "type": "carpet"
           }
          ],
          "choropleth": [
           {
            "colorbar": {
             "outlinewidth": 0,
             "ticks": ""
            },
            "type": "choropleth"
           }
          ],
          "contour": [
           {
            "colorbar": {
             "outlinewidth": 0,
             "ticks": ""
            },
            "colorscale": [
             [
              0,
              "#0d0887"
             ],
             [
              0.1111111111111111,
              "#46039f"
             ],
             [
              0.2222222222222222,
              "#7201a8"
             ],
             [
              0.3333333333333333,
              "#9c179e"
             ],
             [
              0.4444444444444444,
              "#bd3786"
             ],
             [
              0.5555555555555556,
              "#d8576b"
             ],
             [
              0.6666666666666666,
              "#ed7953"
             ],
             [
              0.7777777777777778,
              "#fb9f3a"
             ],
             [
              0.8888888888888888,
              "#fdca26"
             ],
             [
              1,
              "#f0f921"
             ]
            ],
            "type": "contour"
           }
          ],
          "contourcarpet": [
           {
            "colorbar": {
             "outlinewidth": 0,
             "ticks": ""
            },
            "type": "contourcarpet"
           }
          ],
          "heatmap": [
           {
            "colorbar": {
             "outlinewidth": 0,
             "ticks": ""
            },
            "colorscale": [
             [
              0,
              "#0d0887"
             ],
             [
              0.1111111111111111,
              "#46039f"
             ],
             [
              0.2222222222222222,
              "#7201a8"
             ],
             [
              0.3333333333333333,
              "#9c179e"
             ],
             [
              0.4444444444444444,
              "#bd3786"
             ],
             [
              0.5555555555555556,
              "#d8576b"
             ],
             [
              0.6666666666666666,
              "#ed7953"
             ],
             [
              0.7777777777777778,
              "#fb9f3a"
             ],
             [
              0.8888888888888888,
              "#fdca26"
             ],
             [
              1,
              "#f0f921"
             ]
            ],
            "type": "heatmap"
           }
          ],
          "heatmapgl": [
           {
            "colorbar": {
             "outlinewidth": 0,
             "ticks": ""
            },
            "colorscale": [
             [
              0,
              "#0d0887"
             ],
             [
              0.1111111111111111,
              "#46039f"
             ],
             [
              0.2222222222222222,
              "#7201a8"
             ],
             [
              0.3333333333333333,
              "#9c179e"
             ],
             [
              0.4444444444444444,
              "#bd3786"
             ],
             [
              0.5555555555555556,
              "#d8576b"
             ],
             [
              0.6666666666666666,
              "#ed7953"
             ],
             [
              0.7777777777777778,
              "#fb9f3a"
             ],
             [
              0.8888888888888888,
              "#fdca26"
             ],
             [
              1,
              "#f0f921"
             ]
            ],
            "type": "heatmapgl"
           }
          ],
          "histogram": [
           {
            "marker": {
             "pattern": {
              "fillmode": "overlay",
              "size": 10,
              "solidity": 0.2
             }
            },
            "type": "histogram"
           }
          ],
          "histogram2d": [
           {
            "colorbar": {
             "outlinewidth": 0,
             "ticks": ""
            },
            "colorscale": [
             [
              0,
              "#0d0887"
             ],
             [
              0.1111111111111111,
              "#46039f"
             ],
             [
              0.2222222222222222,
              "#7201a8"
             ],
             [
              0.3333333333333333,
              "#9c179e"
             ],
             [
              0.4444444444444444,
              "#bd3786"
             ],
             [
              0.5555555555555556,
              "#d8576b"
             ],
             [
              0.6666666666666666,
              "#ed7953"
             ],
             [
              0.7777777777777778,
              "#fb9f3a"
             ],
             [
              0.8888888888888888,
              "#fdca26"
             ],
             [
              1,
              "#f0f921"
             ]
            ],
            "type": "histogram2d"
           }
          ],
          "histogram2dcontour": [
           {
            "colorbar": {
             "outlinewidth": 0,
             "ticks": ""
            },
            "colorscale": [
             [
              0,
              "#0d0887"
             ],
             [
              0.1111111111111111,
              "#46039f"
             ],
             [
              0.2222222222222222,
              "#7201a8"
             ],
             [
              0.3333333333333333,
              "#9c179e"
             ],
             [
              0.4444444444444444,
              "#bd3786"
             ],
             [
              0.5555555555555556,
              "#d8576b"
             ],
             [
              0.6666666666666666,
              "#ed7953"
             ],
             [
              0.7777777777777778,
              "#fb9f3a"
             ],
             [
              0.8888888888888888,
              "#fdca26"
             ],
             [
              1,
              "#f0f921"
             ]
            ],
            "type": "histogram2dcontour"
           }
          ],
          "mesh3d": [
           {
            "colorbar": {
             "outlinewidth": 0,
             "ticks": ""
            },
            "type": "mesh3d"
           }
          ],
          "parcoords": [
           {
            "line": {
             "colorbar": {
              "outlinewidth": 0,
              "ticks": ""
             }
            },
            "type": "parcoords"
           }
          ],
          "pie": [
           {
            "automargin": true,
            "type": "pie"
           }
          ],
          "scatter": [
           {
            "marker": {
             "line": {
              "color": "#283442"
             }
            },
            "type": "scatter"
           }
          ],
          "scatter3d": [
           {
            "line": {
             "colorbar": {
              "outlinewidth": 0,
              "ticks": ""
             }
            },
            "marker": {
             "colorbar": {
              "outlinewidth": 0,
              "ticks": ""
             }
            },
            "type": "scatter3d"
           }
          ],
          "scattercarpet": [
           {
            "marker": {
             "colorbar": {
              "outlinewidth": 0,
              "ticks": ""
             }
            },
            "type": "scattercarpet"
           }
          ],
          "scattergeo": [
           {
            "marker": {
             "colorbar": {
              "outlinewidth": 0,
              "ticks": ""
             }
            },
            "type": "scattergeo"
           }
          ],
          "scattergl": [
           {
            "marker": {
             "line": {
              "color": "#283442"
             }
            },
            "type": "scattergl"
           }
          ],
          "scattermapbox": [
           {
            "marker": {
             "colorbar": {
              "outlinewidth": 0,
              "ticks": ""
             }
            },
            "type": "scattermapbox"
           }
          ],
          "scatterpolar": [
           {
            "marker": {
             "colorbar": {
              "outlinewidth": 0,
              "ticks": ""
             }
            },
            "type": "scatterpolar"
           }
          ],
          "scatterpolargl": [
           {
            "marker": {
             "colorbar": {
              "outlinewidth": 0,
              "ticks": ""
             }
            },
            "type": "scatterpolargl"
           }
          ],
          "scatterternary": [
           {
            "marker": {
             "colorbar": {
              "outlinewidth": 0,
              "ticks": ""
             }
            },
            "type": "scatterternary"
           }
          ],
          "surface": [
           {
            "colorbar": {
             "outlinewidth": 0,
             "ticks": ""
            },
            "colorscale": [
             [
              0,
              "#0d0887"
             ],
             [
              0.1111111111111111,
              "#46039f"
             ],
             [
              0.2222222222222222,
              "#7201a8"
             ],
             [
              0.3333333333333333,
              "#9c179e"
             ],
             [
              0.4444444444444444,
              "#bd3786"
             ],
             [
              0.5555555555555556,
              "#d8576b"
             ],
             [
              0.6666666666666666,
              "#ed7953"
             ],
             [
              0.7777777777777778,
              "#fb9f3a"
             ],
             [
              0.8888888888888888,
              "#fdca26"
             ],
             [
              1,
              "#f0f921"
             ]
            ],
            "type": "surface"
           }
          ],
          "table": [
           {
            "cells": {
             "fill": {
              "color": "#506784"
             },
             "line": {
              "color": "rgb(17,17,17)"
             }
            },
            "header": {
             "fill": {
              "color": "#2a3f5f"
             },
             "line": {
              "color": "rgb(17,17,17)"
             }
            },
            "type": "table"
           }
          ]
         },
         "layout": {
          "annotationdefaults": {
           "arrowcolor": "#f2f5fa",
           "arrowhead": 0,
           "arrowwidth": 1
          },
          "autotypenumbers": "strict",
          "coloraxis": {
           "colorbar": {
            "outlinewidth": 0,
            "ticks": ""
           }
          },
          "colorscale": {
           "diverging": [
            [
             0,
             "#8e0152"
            ],
            [
             0.1,
             "#c51b7d"
            ],
            [
             0.2,
             "#de77ae"
            ],
            [
             0.3,
             "#f1b6da"
            ],
            [
             0.4,
             "#fde0ef"
            ],
            [
             0.5,
             "#f7f7f7"
            ],
            [
             0.6,
             "#e6f5d0"
            ],
            [
             0.7,
             "#b8e186"
            ],
            [
             0.8,
             "#7fbc41"
            ],
            [
             0.9,
             "#4d9221"
            ],
            [
             1,
             "#276419"
            ]
           ],
           "sequential": [
            [
             0,
             "#0d0887"
            ],
            [
             0.1111111111111111,
             "#46039f"
            ],
            [
             0.2222222222222222,
             "#7201a8"
            ],
            [
             0.3333333333333333,
             "#9c179e"
            ],
            [
             0.4444444444444444,
             "#bd3786"
            ],
            [
             0.5555555555555556,
             "#d8576b"
            ],
            [
             0.6666666666666666,
             "#ed7953"
            ],
            [
             0.7777777777777778,
             "#fb9f3a"
            ],
            [
             0.8888888888888888,
             "#fdca26"
            ],
            [
             1,
             "#f0f921"
            ]
           ],
           "sequentialminus": [
            [
             0,
             "#0d0887"
            ],
            [
             0.1111111111111111,
             "#46039f"
            ],
            [
             0.2222222222222222,
             "#7201a8"
            ],
            [
             0.3333333333333333,
             "#9c179e"
            ],
            [
             0.4444444444444444,
             "#bd3786"
            ],
            [
             0.5555555555555556,
             "#d8576b"
            ],
            [
             0.6666666666666666,
             "#ed7953"
            ],
            [
             0.7777777777777778,
             "#fb9f3a"
            ],
            [
             0.8888888888888888,
             "#fdca26"
            ],
            [
             1,
             "#f0f921"
            ]
           ]
          },
          "colorway": [
           "#636efa",
           "#EF553B",
           "#00cc96",
           "#ab63fa",
           "#FFA15A",
           "#19d3f3",
           "#FF6692",
           "#B6E880",
           "#FF97FF",
           "#FECB52"
          ],
          "font": {
           "color": "#f2f5fa"
          },
          "geo": {
           "bgcolor": "rgb(17,17,17)",
           "lakecolor": "rgb(17,17,17)",
           "landcolor": "rgb(17,17,17)",
           "showlakes": true,
           "showland": true,
           "subunitcolor": "#506784"
          },
          "hoverlabel": {
           "align": "left"
          },
          "hovermode": "closest",
          "mapbox": {
           "style": "dark"
          },
          "paper_bgcolor": "rgb(17,17,17)",
          "plot_bgcolor": "rgb(17,17,17)",
          "polar": {
           "angularaxis": {
            "gridcolor": "#506784",
            "linecolor": "#506784",
            "ticks": ""
           },
           "bgcolor": "rgb(17,17,17)",
           "radialaxis": {
            "gridcolor": "#506784",
            "linecolor": "#506784",
            "ticks": ""
           }
          },
          "scene": {
           "xaxis": {
            "backgroundcolor": "rgb(17,17,17)",
            "gridcolor": "#506784",
            "gridwidth": 2,
            "linecolor": "#506784",
            "showbackground": true,
            "ticks": "",
            "zerolinecolor": "#C8D4E3"
           },
           "yaxis": {
            "backgroundcolor": "rgb(17,17,17)",
            "gridcolor": "#506784",
            "gridwidth": 2,
            "linecolor": "#506784",
            "showbackground": true,
            "ticks": "",
            "zerolinecolor": "#C8D4E3"
           },
           "zaxis": {
            "backgroundcolor": "rgb(17,17,17)",
            "gridcolor": "#506784",
            "gridwidth": 2,
            "linecolor": "#506784",
            "showbackground": true,
            "ticks": "",
            "zerolinecolor": "#C8D4E3"
           }
          },
          "shapedefaults": {
           "line": {
            "color": "#f2f5fa"
           }
          },
          "sliderdefaults": {
           "bgcolor": "#C8D4E3",
           "bordercolor": "rgb(17,17,17)",
           "borderwidth": 1,
           "tickwidth": 0
          },
          "ternary": {
           "aaxis": {
            "gridcolor": "#506784",
            "linecolor": "#506784",
            "ticks": ""
           },
           "baxis": {
            "gridcolor": "#506784",
            "linecolor": "#506784",
            "ticks": ""
           },
           "bgcolor": "rgb(17,17,17)",
           "caxis": {
            "gridcolor": "#506784",
            "linecolor": "#506784",
            "ticks": ""
           }
          },
          "title": {
           "x": 0.05
          },
          "updatemenudefaults": {
           "bgcolor": "#506784",
           "borderwidth": 0
          },
          "xaxis": {
           "automargin": true,
           "gridcolor": "#283442",
           "linecolor": "#506784",
           "ticks": "",
           "title": {
            "standoff": 15
           },
           "zerolinecolor": "#283442",
           "zerolinewidth": 2
          },
          "yaxis": {
           "automargin": true,
           "gridcolor": "#283442",
           "linecolor": "#506784",
           "ticks": "",
           "title": {
            "standoff": 15
           },
           "zerolinecolor": "#283442",
           "zerolinewidth": 2
          }
         }
        },
        "title": {
         "font": {
          "color": "white",
          "size": 25
         },
         "text": "<i>Canciones más populares</i>",
         "x": 0.5,
         "xanchor": "center",
         "y": 0.9,
         "yanchor": "top"
        },
        "xaxis": {
         "anchor": "y",
         "categoryorder": "total descending",
         "domain": [
          0,
          1
         ],
         "tickfont": {
          "size": 18
         },
         "title": {
          "font": {
           "size": 18
          },
          "text": "Canción"
         }
        },
        "yaxis": {
         "anchor": "x",
         "domain": [
          0,
          1
         ],
         "range": [
          0,
          20
         ],
         "showgrid": false,
         "showticklabels": false,
         "title": {
          "font": {
           "size": 18
          },
          "text": "Popularidad"
         }
        }
       }
      }
     },
     "metadata": {},
     "output_type": "display_data"
    }
   ],
   "source": [
    "crear_grafico_popularidad(data)"
   ]
  },
  {
   "cell_type": "markdown",
   "metadata": {},
   "source": [
    "# 6. Creando código de Streamlit"
   ]
  },
  {
   "cell_type": "code",
   "execution_count": 29,
   "metadata": {},
   "outputs": [
    {
     "name": "stderr",
     "output_type": "stream",
     "text": [
      "2024-08-11 16:17:21.326 \n",
      "  \u001b[33m\u001b[1mWarning:\u001b[0m to view this Streamlit app on a browser, run it with the following\n",
      "  command:\n",
      "\n",
      "    streamlit run C:\\Users\\alexa\\AppData\\Local\\Packages\\PythonSoftwareFoundation.Python.3.12_qbz5n2kfra8p0\\LocalCache\\local-packages\\Python312\\site-packages\\ipykernel_launcher.py [ARGUMENTS]\n",
      "2024-08-11 16:17:21.351 Session state does not function when running a script without `streamlit run`\n"
     ]
    }
   ],
   "source": [
    "def main():\n",
    "    st.title('Explorador de Música de Spotify')\n",
    "\n",
    "    # Input del usuario para el nombre del artista\n",
    "    artista = st.text_input('Ingrese el nombre del artista:')\n",
    "\n",
    "    # Botón para buscar\n",
    "    if st.button('Buscar'):\n",
    "        # Lógica para obtener los datos\n",
    "        df = DataframeArtistaSpotify(spotify, artista)\n",
    "\n",
    "        # Visualización de los datos (ejemplo con Plotly)\n",
    "        fig = crear_grafico_popularidad(df)\n",
    "        st.plotly_chart(fig)\n",
    "\n",
    "\n",
    "if __name__ == '__main__':\n",
    "    main()\n"
   ]
  }
 ],
 "metadata": {
  "kernelspec": {
   "display_name": "Python 3",
   "language": "python",
   "name": "python3"
  },
  "language_info": {
   "codemirror_mode": {
    "name": "ipython",
    "version": 3
   },
   "file_extension": ".py",
   "mimetype": "text/x-python",
   "name": "python",
   "nbconvert_exporter": "python",
   "pygments_lexer": "ipython3",
   "version": "3.12.5"
  }
 },
 "nbformat": 4,
 "nbformat_minor": 2
}
